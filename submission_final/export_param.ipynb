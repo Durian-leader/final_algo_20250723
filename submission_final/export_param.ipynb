{
 "cells": [
  {
   "cell_type": "code",
   "execution_count": 1,
   "id": "911901da",
   "metadata": {},
   "outputs": [
    {
     "name": "stdout",
     "output_type": "stream",
     "text": [
      "所有 FC 层索引对： [(0, 3)]\n",
      "所有 Conv2D 层索引对： [(0, 0)]\n"
     ]
    }
   ],
   "source": [
    "from pathlib import Path\n",
    "from tflite import Model\n",
    "from params_export_utils.model.export_params_lib.export_fc_params import find_all_fc_ops, export_fc_params\n",
    "from params_export_utils.model.export_params_lib.export_conv_params import find_all_conv2d_ops, export_conv_params\n",
    "# 加载模型\n",
    "buf = Path(\"vad_model_quant_mfcc12_cls2_sigmoid.tflite\").read_bytes()\n",
    "model = Model.GetRootAsModel(buf, 0)\n",
    "\n",
    "# 查找所有索引对\n",
    "fc_ops = find_all_fc_ops(model)\n",
    "conv2d_ops = find_all_conv2d_ops(model)\n",
    "\n",
    "print(\"所有 FC 层索引对：\", fc_ops)\n",
    "print(\"所有 Conv2D 层索引对：\", conv2d_ops)\n"
   ]
  },
  {
   "cell_type": "code",
   "execution_count": 2,
   "id": "7e999357",
   "metadata": {},
   "outputs": [],
   "source": [
    "model_path = \"vad_model_quant_mfcc12_cls2_sigmoid.tflite\"\n",
    "output_dir = \"vad_model_quant_mfcc12_cls2_sigmoid\""
   ]
  },
  {
   "cell_type": "code",
   "execution_count": 4,
   "id": "ad0b03bf",
   "metadata": {},
   "outputs": [
    {
     "name": "stdout",
     "output_type": "stream",
     "text": [
      "=== Tensor 信息 ===\n",
      "权重 tensor 形状: [2, 4]\n",
      "偏置 tensor 形状: [2]\n",
      "输出 tensor 形状: [1, 2]\n",
      "\n",
      "=== Buffer 数据 ===\n",
      "权重 buffer 大小: 8\n",
      "权重 buffer 原始数据 (前20个): [252   7 255 129 200 191 202 127]\n",
      "权重 buffer 完整数据: [252   7 255 129 200 191 202 127]\n",
      "权重 int8 数据 (前20个): [  -4    7   -1 -127  -56  -65  -54  127]\n",
      "权重 int8 完整数据: [  -4    7   -1 -127  -56  -65  -54  127]\n",
      "\n",
      "偏置 buffer 大小: 2\n",
      "偏置 buffer 原始数据: [ 83 -93]\n",
      "偏置 int32 数据: [ 83 -93]\n",
      "\n",
      "输出通道数: 2\n",
      "输入通道数: 4\n",
      "\n",
      "=== 量化参数 ===\n",
      "输入缩放因子: 0.24480144679546356\n",
      "输出缩放因子: 0.038502831012010574\n",
      "权重缩放因子数量: 2\n",
      "权重缩放因子完整列表: [0.031235946342349052, 0.028061317279934883]\n",
      "通道 0: scale=0.031235946342349052, scale_product=0.19859850965886727, multiplier=1705948208, shift=2\n",
      "通道 1: scale=0.028061317279934883, scale_product=0.17841418120583769, multiplier=1532566147, shift=2\n",
      "\n",
      "=== 最终结果 ===\n",
      "乘数列表完整数据: [1705948208, 1532566147]\n",
      "移位列表完整数据: [2, 2]\n",
      "乘数数量: 2\n",
      "移位数量: 2\n",
      "\n",
      "=== 额外调试信息 ===\n",
      "权重数据类型: <class 'numpy.ndarray'>, 数据形状: (8,)\n",
      "偏置数据类型: <class 'numpy.ndarray'>, 数据形状: (2,)\n",
      "权重数据范围: min=-127, max=127\n",
      "偏置数据范围: min=-93, max=83\n",
      "乘数数据范围: min=1532566147, max=1705948208\n",
      "移位数据范围: min=2, max=2\n",
      "✅ 已生成: vad_model_quant_mfcc12_cls2_sigmoid/inc/vad_fc_model_params.h 和 vad_model_quant_mfcc12_cls2_sigmoid/src/vad_fc_model_data.c\n"
     ]
    }
   ],
   "source": [
    "export_fc_params(\n",
    "    tflite_path=model_path,\n",
    "    output_dir=output_dir,\n",
    "    subgraph_index=0,\n",
    "    operator_index=3,\n",
    "    prefix='vad_fc'\n",
    ")"
   ]
  },
  {
   "cell_type": "code",
   "execution_count": 5,
   "id": "9803aa8f",
   "metadata": {},
   "outputs": [
    {
     "ename": "ValueError",
     "evalue": "'vad_model_quant_mfcc12_cls2_sigmoid/inc/vad_conv_model_params.h' is not in the subpath of '/home/lidonghaowsl/develop/VeriSilicon_Cup_Competition_preliminary_round/submission'",
     "output_type": "error",
     "traceback": [
      "\u001b[31m---------------------------------------------------------------------------\u001b[39m",
      "\u001b[31mValueError\u001b[39m                                Traceback (most recent call last)",
      "\u001b[36mCell\u001b[39m\u001b[36m \u001b[39m\u001b[32mIn[5]\u001b[39m\u001b[32m, line 1\u001b[39m\n\u001b[32m----> \u001b[39m\u001b[32m1\u001b[39m \u001b[43mexport_conv_params\u001b[49m\u001b[43m(\u001b[49m\n\u001b[32m      2\u001b[39m \u001b[43m    \u001b[49m\u001b[43mtflite_path\u001b[49m\u001b[43m=\u001b[49m\u001b[43mmodel_path\u001b[49m\u001b[43m,\u001b[49m\n\u001b[32m      3\u001b[39m \u001b[43m    \u001b[49m\u001b[43moutput_dir\u001b[49m\u001b[43m=\u001b[49m\u001b[43moutput_dir\u001b[49m\u001b[43m,\u001b[49m\n\u001b[32m      4\u001b[39m \u001b[43m    \u001b[49m\u001b[43msubgraph_index\u001b[49m\u001b[43m=\u001b[49m\u001b[32;43m0\u001b[39;49m\u001b[43m,\u001b[49m\n\u001b[32m      5\u001b[39m \u001b[43m    \u001b[49m\u001b[43mconv_op_index\u001b[49m\u001b[43m=\u001b[49m\u001b[32;43m0\u001b[39;49m\u001b[43m,\u001b[49m\n\u001b[32m      6\u001b[39m \u001b[43m    \u001b[49m\u001b[43mprefix\u001b[49m\u001b[43m=\u001b[49m\u001b[33;43m'\u001b[39;49m\u001b[33;43mvad_conv\u001b[39;49m\u001b[33;43m'\u001b[39;49m\u001b[43m,\u001b[49m\n\u001b[32m      7\u001b[39m \u001b[43m    \u001b[49m\u001b[43mSHIFT_LEFT_POSITIVE\u001b[49m\u001b[43m=\u001b[49m\u001b[38;5;28;43;01mFalse\u001b[39;49;00m\n\u001b[32m      8\u001b[39m \u001b[43m)\u001b[49m\n",
      "\u001b[36mFile \u001b[39m\u001b[32m~/develop/VeriSilicon_Cup_Competition_preliminary_round/submission/params_export_utils/model/export_params_lib/export_conv_params.py:180\u001b[39m, in \u001b[36mexport_conv_params\u001b[39m\u001b[34m(tflite_path, output_dir, subgraph_index, conv_op_index, prefix, SHIFT_LEFT_POSITIVE)\u001b[39m\n\u001b[32m    170\u001b[39m \u001b[38;5;66;03m# ── 写 .c ────────────────────────────────────\u001b[39;00m\n\u001b[32m    171\u001b[39m out_src.write_text(textwrap.dedent(\u001b[33mf\u001b[39m\u001b[33m\"\"\"\u001b[39m\n\u001b[32m    172\u001b[39m \u001b[33m    #include \u001b[39m\u001b[33m\"\u001b[39m\u001b[38;5;132;01m{\u001b[39;00mprefix\u001b[38;5;132;01m}\u001b[39;00m\u001b[33m_model_params.h\u001b[39m\u001b[33m\"\u001b[39m\n\u001b[32m    173\u001b[39m \n\u001b[32m   (...)\u001b[39m\u001b[32m    177\u001b[39m \u001b[33m    \u001b[39m\u001b[38;5;132;01m{\u001b[39;00mc_array(\u001b[33mf\u001b[39m\u001b[33m\"\u001b[39m\u001b[38;5;132;01m{\u001b[39;00mprefix\u001b[38;5;132;01m}\u001b[39;00m\u001b[33m_shift\u001b[39m\u001b[33m\"\u001b[39m,\u001b[38;5;250m   \u001b[39mshift,\u001b[38;5;250m   \u001b[39m\u001b[33m\"\u001b[39m\u001b[33mint32_t\u001b[39m\u001b[33m\"\u001b[39m)\u001b[38;5;132;01m}\u001b[39;00m\n\u001b[32m    178\u001b[39m \u001b[33m\u001b[39m\u001b[33m\"\"\"\u001b[39m).strip())\n\u001b[32m--> \u001b[39m\u001b[32m180\u001b[39m \u001b[38;5;28mprint\u001b[39m(\u001b[33mf\u001b[39m\u001b[33m\"\u001b[39m\u001b[33m✅ 生成成功 → \u001b[39m\u001b[38;5;132;01m{\u001b[39;00m\u001b[43mout_inc\u001b[49m\u001b[43m.\u001b[49m\u001b[43mrelative_to\u001b[49m\u001b[43m(\u001b[49m\u001b[43mPath\u001b[49m\u001b[43m.\u001b[49m\u001b[43mcwd\u001b[49m\u001b[43m(\u001b[49m\u001b[43m)\u001b[49m\u001b[43m)\u001b[49m\u001b[38;5;132;01m}\u001b[39;00m\u001b[33m | \u001b[39m\u001b[38;5;132;01m{\u001b[39;00mout_src.relative_to(Path.cwd())\u001b[38;5;132;01m}\u001b[39;00m\u001b[33m\"\u001b[39m)\n",
      "\u001b[36mFile \u001b[39m\u001b[32m~/miniconda3/envs/vesc2025-algo/lib/python3.12/pathlib.py:682\u001b[39m, in \u001b[36mPurePath.relative_to\u001b[39m\u001b[34m(self, other, walk_up, *_deprecated)\u001b[39m\n\u001b[32m    680\u001b[39m     \u001b[38;5;28;01mbreak\u001b[39;00m\n\u001b[32m    681\u001b[39m \u001b[38;5;28;01melif\u001b[39;00m \u001b[38;5;129;01mnot\u001b[39;00m walk_up:\n\u001b[32m--> \u001b[39m\u001b[32m682\u001b[39m     \u001b[38;5;28;01mraise\u001b[39;00m \u001b[38;5;167;01mValueError\u001b[39;00m(\u001b[33mf\u001b[39m\u001b[33m\"\u001b[39m\u001b[38;5;132;01m{\u001b[39;00m\u001b[38;5;28mstr\u001b[39m(\u001b[38;5;28mself\u001b[39m)\u001b[38;5;132;01m!r}\u001b[39;00m\u001b[33m is not in the subpath of \u001b[39m\u001b[38;5;132;01m{\u001b[39;00m\u001b[38;5;28mstr\u001b[39m(other)\u001b[38;5;132;01m!r}\u001b[39;00m\u001b[33m\"\u001b[39m)\n\u001b[32m    683\u001b[39m \u001b[38;5;28;01melif\u001b[39;00m path.name == \u001b[33m'\u001b[39m\u001b[33m..\u001b[39m\u001b[33m'\u001b[39m:\n\u001b[32m    684\u001b[39m     \u001b[38;5;28;01mraise\u001b[39;00m \u001b[38;5;167;01mValueError\u001b[39;00m(\u001b[33mf\u001b[39m\u001b[33m\"\u001b[39m\u001b[33m'\u001b[39m\u001b[33m..\u001b[39m\u001b[33m'\u001b[39m\u001b[33m segment in \u001b[39m\u001b[38;5;132;01m{\u001b[39;00m\u001b[38;5;28mstr\u001b[39m(other)\u001b[38;5;132;01m!r}\u001b[39;00m\u001b[33m cannot be walked\u001b[39m\u001b[33m\"\u001b[39m)\n",
      "\u001b[31mValueError\u001b[39m: 'vad_model_quant_mfcc12_cls2_sigmoid/inc/vad_conv_model_params.h' is not in the subpath of '/home/lidonghaowsl/develop/VeriSilicon_Cup_Competition_preliminary_round/submission'"
     ]
    }
   ],
   "source": [
    "export_conv_params(\n",
    "    tflite_path=model_path,\n",
    "    output_dir=output_dir,\n",
    "    subgraph_index=0,\n",
    "    conv_op_index=0,\n",
    "    prefix='vad_conv',\n",
    "    SHIFT_LEFT_POSITIVE=False\n",
    ")"
   ]
  }
 ],
 "metadata": {
  "kernelspec": {
   "display_name": "vesc2025-algo",
   "language": "python",
   "name": "python3"
  },
  "language_info": {
   "codemirror_mode": {
    "name": "ipython",
    "version": 3
   },
   "file_extension": ".py",
   "mimetype": "text/x-python",
   "name": "python",
   "nbconvert_exporter": "python",
   "pygments_lexer": "ipython3",
   "version": "3.12.11"
  }
 },
 "nbformat": 4,
 "nbformat_minor": 5
}
