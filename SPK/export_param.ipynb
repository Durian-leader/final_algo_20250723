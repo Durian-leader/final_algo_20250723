{
 "cells": [
  {
   "cell_type": "code",
   "execution_count": 44,
   "id": "327cb9a4",
   "metadata": {},
   "outputs": [],
   "source": [
    "LABEL = 'spk-OFFICIAL_ALL-NO_NOISE_hid512_7X12_epoch100_2cls'"
   ]
  },
  {
   "cell_type": "code",
   "execution_count": 45,
   "id": "911901da",
   "metadata": {},
   "outputs": [
    {
     "name": "stdout",
     "output_type": "stream",
     "text": [
      "所有 FC 层索引对： [(0, 3)]\n",
      "所有 Conv2D 层索引对： [(0, 0)]\n"
     ]
    }
   ],
   "source": [
    "from pathlib import Path\n",
    "from tflite import Model\n",
    "from export_params_lib.export_fc_params import find_all_fc_ops, export_fc_params\n",
    "from export_params_lib.export_conv_params import find_all_conv2d_ops, export_conv_params\n",
    "# 加载模型\n",
    "buf = Path(f\"{LABEL}.tflite\").read_bytes()\n",
    "model = Model.GetRootAsModel(buf, 0)\n",
    "\n",
    "# 查找所有索引对\n",
    "fc_ops = find_all_fc_ops(model)\n",
    "conv2d_ops = find_all_conv2d_ops(model)\n",
    "\n",
    "print(\"所有 FC 层索引对：\", fc_ops)\n",
    "print(\"所有 Conv2D 层索引对：\", conv2d_ops)\n"
   ]
  },
  {
   "cell_type": "code",
   "execution_count": 46,
   "id": "7e999357",
   "metadata": {},
   "outputs": [],
   "source": [
    "model_path = f\"{LABEL}.tflite\"\n",
    "output_dir = f\"{LABEL}\""
   ]
  },
  {
   "cell_type": "code",
   "execution_count": 47,
   "id": "ad0b03bf",
   "metadata": {},
   "outputs": [
    {
     "name": "stdout",
     "output_type": "stream",
     "text": [
      "=== Tensor 信息 ===\n",
      "权重 tensor 形状: [2, 52]\n",
      "偏置 tensor 形状: [2]\n",
      "输出 tensor 形状: [1, 2]\n",
      "\n",
      "=== Buffer 数据 ===\n",
      "权重 buffer 大小: 104\n",
      "权重 buffer 原始数据 (前20个): [ 96 204 157  43 212  50  29  22 175 208  42  16  32  76  76 234  18  48\n",
      "  19   3]\n",
      "权重 buffer 完整数据: [ 96 204 157  43 212  50  29  22 175 208  42  16  32  76  76 234  18  48\n",
      "  19   3  17 235 129  30  36  50  43 167  28  38 202 231 166  12  46 229\n",
      "  59  41 213 158 130 191 193 228 216 149 207   6   2  50  37 236 189 104\n",
      " 102 196  34 164 179 185  66   8 228 251 221 163 201  56 209 234 254 231\n",
      " 227 218  94   4 222 194 241  97 214 210  55  32 102 224 180  58 166 253\n",
      "  93  78 127  80  65   6  92  83  57 238 214 188 215  45]\n",
      "权重 int8 数据 (前20个): [ 96 -52 -99  43 -44  50  29  22 -81 -48  42  16  32  76  76 -22  18  48\n",
      "  19   3]\n",
      "权重 int8 完整数据: [  96  -52  -99   43  -44   50   29   22  -81  -48   42   16   32   76\n",
      "   76  -22   18   48   19    3   17  -21 -127   30   36   50   43  -89\n",
      "   28   38  -54  -25  -90   12   46  -27   59   41  -43  -98 -126  -65\n",
      "  -63  -28  -40 -107  -49    6    2   50   37  -20  -67  104  102  -60\n",
      "   34  -92  -77  -71   66    8  -28   -5  -35  -93  -55   56  -47  -22\n",
      "   -2  -25  -29  -38   94    4  -34  -62  -15   97  -42  -46   55   32\n",
      "  102  -32  -76   58  -90   -3   93   78  127   80   65    6   92   83\n",
      "   57  -18  -42  -68  -41   45]\n",
      "\n",
      "偏置 buffer 大小: 2\n",
      "偏置 buffer 原始数据: [ 629 -677]\n",
      "偏置 int32 数据: [ 629 -677]\n",
      "\n",
      "输出通道数: 2\n",
      "输入通道数: 52\n",
      "\n",
      "=== 量化参数 ===\n",
      "输入缩放因子: 0.054841555655002594\n",
      "输出缩放因子: 0.03125487640500069\n",
      "权重缩放因子数量: 2\n",
      "权重缩放因子完整列表: [0.010678043588995934, 0.00991419143974781]\n",
      "通道 0: scale=0.010678043588995934, scale_product=0.018736292992627857, multiplier=1287548250, shift=5\n",
      "通道 1: scale=0.00991419143974781, scale_product=0.017395995254368943, multiplier=1195443691, shift=5\n",
      "\n",
      "=== 最终结果 ===\n",
      "乘数列表完整数据: [1287548250, 1195443691]\n",
      "移位列表完整数据: [5, 5]\n",
      "乘数数量: 2\n",
      "移位数量: 2\n",
      "\n",
      "=== 额外调试信息 ===\n",
      "权重数据类型: <class 'numpy.ndarray'>, 数据形状: (104,)\n",
      "偏置数据类型: <class 'numpy.ndarray'>, 数据形状: (2,)\n",
      "权重数据范围: min=-127, max=127\n",
      "偏置数据范围: min=-677, max=629\n",
      "乘数数据范围: min=1195443691, max=1287548250\n",
      "移位数据范围: min=5, max=5\n",
      "✅ 已生成: spk-OFFICIAL_ALL-NO_NOISE_hid512_7X12_epoch100_2cls/inc/spk_fc_model_params.h 和 spk-OFFICIAL_ALL-NO_NOISE_hid512_7X12_epoch100_2cls/src/spk_fc_model_data.c\n"
     ]
    }
   ],
   "source": [
    "export_fc_params(\n",
    "    tflite_path=model_path,\n",
    "    output_dir=output_dir,\n",
    "    subgraph_index=0,\n",
    "    operator_index=3,\n",
    "    prefix='spk_fc'\n",
    ")"
   ]
  },
  {
   "cell_type": "code",
   "execution_count": 48,
   "id": "9803aa8f",
   "metadata": {},
   "outputs": [
    {
     "name": "stdout",
     "output_type": "stream",
     "text": [
      "✅ 生成成功 → spk-OFFICIAL_ALL-NO_NOISE_hid512_7X12_epoch100_2cls/inc/spk_conv_model_params.h | spk-OFFICIAL_ALL-NO_NOISE_hid512_7X12_epoch100_2cls/src/spk_conv_model_data.c\n"
     ]
    }
   ],
   "source": [
    "export_conv_params(\n",
    "    tflite_path=model_path,\n",
    "    output_dir=output_dir,\n",
    "    subgraph_index=0,\n",
    "    conv_op_index=0,\n",
    "    prefix='spk_conv',\n",
    "    SHIFT_LEFT_POSITIVE=False\n",
    ")"
   ]
  },
  {
   "cell_type": "code",
   "execution_count": 49,
   "id": "1f82329b",
   "metadata": {},
   "outputs": [
    {
     "name": "stdout",
     "output_type": "stream",
     "text": [
      "spk-OFFICIAL_ALL-NO_NOISE_hid512_7X12_epoch100_2cls/\n",
      "spk-OFFICIAL_ALL-NO_NOISE_hid512_7X12_epoch100_2cls/src/\n",
      "spk-OFFICIAL_ALL-NO_NOISE_hid512_7X12_epoch100_2cls/src/spk_fc_model_data.c\n",
      "spk-OFFICIAL_ALL-NO_NOISE_hid512_7X12_epoch100_2cls/src/spk_conv_model_data.c\n",
      "spk-OFFICIAL_ALL-NO_NOISE_hid512_7X12_epoch100_2cls/inc/\n",
      "spk-OFFICIAL_ALL-NO_NOISE_hid512_7X12_epoch100_2cls/inc/spk_conv_model_params.h\n",
      "spk-OFFICIAL_ALL-NO_NOISE_hid512_7X12_epoch100_2cls/inc/spk_fc_model_params.h\n"
     ]
    }
   ],
   "source": [
    "!tar -cvf {LABEL}.tar {LABEL}"
   ]
  }
 ],
 "metadata": {
  "kernelspec": {
   "display_name": "vesc2025-algo",
   "language": "python",
   "name": "python3"
  },
  "language_info": {
   "codemirror_mode": {
    "name": "ipython",
    "version": 3
   },
   "file_extension": ".py",
   "mimetype": "text/x-python",
   "name": "python",
   "nbconvert_exporter": "python",
   "pygments_lexer": "ipython3",
   "version": "3.12.11"
  }
 },
 "nbformat": 4,
 "nbformat_minor": 5
}
