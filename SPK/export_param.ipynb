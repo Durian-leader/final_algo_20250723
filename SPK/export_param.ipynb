{
 "cells": [
  {
   "cell_type": "code",
   "execution_count": 1,
   "id": "911901da",
   "metadata": {},
   "outputs": [
    {
     "name": "stdout",
     "output_type": "stream",
     "text": [
      "所有 FC 层索引对： [(0, 3)]\n",
      "所有 Conv2D 层索引对： [(0, 0)]\n"
     ]
    }
   ],
   "source": [
    "from pathlib import Path\n",
    "from tflite import Model\n",
    "from export_params_lib.export_fc_params import find_all_fc_ops, export_fc_params\n",
    "from export_params_lib.export_conv_params import find_all_conv2d_ops, export_conv_params\n",
    "# 加载模型\n",
    "buf = Path(\"spk_diy_256.tflite\").read_bytes()\n",
    "model = Model.GetRootAsModel(buf, 0)\n",
    "\n",
    "# 查找所有索引对\n",
    "fc_ops = find_all_fc_ops(model)\n",
    "conv2d_ops = find_all_conv2d_ops(model)\n",
    "\n",
    "print(\"所有 FC 层索引对：\", fc_ops)\n",
    "print(\"所有 Conv2D 层索引对：\", conv2d_ops)\n"
   ]
  },
  {
   "cell_type": "code",
   "execution_count": 2,
   "id": "7e999357",
   "metadata": {},
   "outputs": [],
   "source": [
    "model_path = \"spk_diy_256.tflite\"\n",
    "output_dir = \"spk_diy_256\""
   ]
  },
  {
   "cell_type": "markdown",
   "id": "eb4ca9a5",
   "metadata": {},
   "source": [
    "tar -cvf spk_diy_256.tar spk_diy_256\n"
   ]
  },
  {
   "cell_type": "code",
   "execution_count": 4,
   "id": "ad0b03bf",
   "metadata": {},
   "outputs": [
    {
     "name": "stdout",
     "output_type": "stream",
     "text": [
      "=== Tensor 信息 ===\n",
      "权重 tensor 形状: [5, 256]\n",
      "偏置 tensor 形状: [5]\n",
      "输出 tensor 形状: [1, 5]\n",
      "\n",
      "=== Buffer 数据 ===\n",
      "权重 buffer 大小: 1280\n",
      "权重 buffer 原始数据 (前20个): [ 21 212  19 206  19  31   5 141  37  24   8 215 165  24 211 213 242  28\n",
      " 249  26]\n",
      "权重 buffer 完整数据: [ 21 212  19 ...  41  35 206]\n",
      "权重 int8 数据 (前20个): [  21  -44   19  -50   19   31    5 -115   37   24    8  -41  -91   24\n",
      "  -45  -43  -14   28   -7   26]\n",
      "权重 int8 完整数据: [ 21 -44  19 ...  41  35 -50]\n",
      "\n",
      "偏置 buffer 大小: 5\n",
      "偏置 buffer 原始数据: [ -82 -244  541   -7 -231]\n",
      "偏置 int32 数据: [ -82 -244  541   -7 -231]\n",
      "\n",
      "输出通道数: 5\n",
      "输入通道数: 256\n",
      "\n",
      "=== 量化参数 ===\n",
      "输入缩放因子: 0.07131421566009521\n",
      "输出缩放因子: 0.44325974583625793\n",
      "权重缩放因子数量: 5\n",
      "权重缩放因子完整列表: [0.00800391286611557, 0.008503095246851444, 0.00805049017071724, 0.008172118104994297, 0.005989322904497385]\n",
      "通道 0: scale=0.00800391286611557, scale_product=0.0012877162287360736, multiplier=1415858967, shift=9\n",
      "通道 1: scale=0.008503095246851444, scale_product=0.0013680276043751063, multiplier=1504162258, shift=9\n",
      "通道 2: scale=0.00805049017071724, scale_product=0.0012952098574186483, multiplier=1424098299, shift=9\n",
      "通道 3: scale=0.008172118104994297, scale_product=0.0013147780695489015, multiplier=1445613775, shift=9\n",
      "通道 4: scale=0.005989322904497385, scale_product=0.0009635972345367355, multiplier=2118972728, shift=10\n",
      "\n",
      "=== 最终结果 ===\n",
      "乘数列表完整数据: [1415858967, 1504162258, 1424098299, 1445613775, 2118972728]\n",
      "移位列表完整数据: [9, 9, 9, 9, 10]\n",
      "乘数数量: 5\n",
      "移位数量: 5\n",
      "\n",
      "=== 额外调试信息 ===\n",
      "权重数据类型: <class 'numpy.ndarray'>, 数据形状: (1280,)\n",
      "偏置数据类型: <class 'numpy.ndarray'>, 数据形状: (5,)\n",
      "权重数据范围: min=-127, max=127\n",
      "偏置数据范围: min=-244, max=541\n",
      "乘数数据范围: min=1415858967, max=2118972728\n",
      "移位数据范围: min=9, max=10\n",
      "✅ 已生成: spk_diy_256/inc/spk_fc_model_params.h 和 spk_diy_256/src/spk_fc_model_data.c\n"
     ]
    }
   ],
   "source": [
    "export_fc_params(\n",
    "    tflite_path=model_path,\n",
    "    output_dir=output_dir,\n",
    "    subgraph_index=0,\n",
    "    operator_index=3,\n",
    "    prefix='spk_fc'\n",
    ")"
   ]
  },
  {
   "cell_type": "code",
   "execution_count": 5,
   "id": "9803aa8f",
   "metadata": {},
   "outputs": [
    {
     "name": "stdout",
     "output_type": "stream",
     "text": [
      "✅ 生成成功 → spk_diy_256/inc/spk_conv_model_params.h | spk_diy_256/src/spk_conv_model_data.c\n"
     ]
    }
   ],
   "source": [
    "export_conv_params(\n",
    "    tflite_path=model_path,\n",
    "    output_dir=output_dir,\n",
    "    subgraph_index=0,\n",
    "    conv_op_index=0,\n",
    "    prefix='spk_conv',\n",
    "    SHIFT_LEFT_POSITIVE=False\n",
    ")"
   ]
  }
 ],
 "metadata": {
  "kernelspec": {
   "display_name": "vesc2025-algo",
   "language": "python",
   "name": "python3"
  },
  "language_info": {
   "codemirror_mode": {
    "name": "ipython",
    "version": 3
   },
   "file_extension": ".py",
   "mimetype": "text/x-python",
   "name": "python",
   "nbconvert_exporter": "python",
   "pygments_lexer": "ipython3",
   "version": "3.12.11"
  }
 },
 "nbformat": 4,
 "nbformat_minor": 5
}
