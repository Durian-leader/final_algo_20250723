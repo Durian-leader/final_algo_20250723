{
 "cells": [
  {
   "cell_type": "code",
   "execution_count": 1,
   "id": "327cb9a4",
   "metadata": {},
   "outputs": [],
   "source": [
    "LABEL = 'spk-OFFICIAL_ALL-NO_NOISE_hid256_9X12_epoch500_2cls_seed58_val_accuracy'"
   ]
  },
  {
   "cell_type": "code",
   "execution_count": 2,
   "id": "911901da",
   "metadata": {},
   "outputs": [
    {
     "name": "stdout",
     "output_type": "stream",
     "text": [
      "所有 FC 层索引对： [(0, 3)]\n",
      "所有 Conv2D 层索引对： [(0, 0)]\n"
     ]
    }
   ],
   "source": [
    "from pathlib import Path\n",
    "from tflite import Model\n",
    "from export_params_lib.export_fc_params import find_all_fc_ops, export_fc_params\n",
    "from export_params_lib.export_conv_params import find_all_conv2d_ops, export_conv_params\n",
    "# 加载模型\n",
    "buf = Path(f\"{LABEL}.tflite\").read_bytes()\n",
    "model = Model.GetRootAsModel(buf, 0)\n",
    "\n",
    "# 查找所有索引对\n",
    "fc_ops = find_all_fc_ops(model)\n",
    "conv2d_ops = find_all_conv2d_ops(model)\n",
    "\n",
    "print(\"所有 FC 层索引对：\", fc_ops)\n",
    "print(\"所有 Conv2D 层索引对：\", conv2d_ops)\n"
   ]
  },
  {
   "cell_type": "code",
   "execution_count": 3,
   "id": "7e999357",
   "metadata": {},
   "outputs": [],
   "source": [
    "model_path = f\"{LABEL}.tflite\"\n",
    "output_dir = f\"{LABEL}\""
   ]
  },
  {
   "cell_type": "code",
   "execution_count": 4,
   "id": "ad0b03bf",
   "metadata": {},
   "outputs": [
    {
     "name": "stdout",
     "output_type": "stream",
     "text": [
      "=== Tensor 信息 ===\n",
      "权重 tensor 形状: [2, 256]\n",
      "偏置 tensor 形状: [2]\n",
      "输出 tensor 形状: [1, 2]\n",
      "\n",
      "=== Buffer 数据 ===\n",
      "权重 buffer 大小: 512\n",
      "权重 buffer 原始数据 (前20个): [238 207  47 196 209 250  39  45 228 120  12 213 229 200 226  48 203 196\n",
      " 245  16]\n",
      "权重 buffer 完整数据: [238 207  47 196 209 250  39  45 228 120  12 213 229 200 226  48 203 196\n",
      " 245  16  41  83 222 220  80  28  47  40 194 242  39  99 218 246 190  84\n",
      " 209  59 156  95 243  20  74  76  58  29  58 234 209 211  22  27  57 207\n",
      " 188 236  38   2  75 235  64 201 129  64 220 169  51  63 148 244  38  51\n",
      "  47 239 238 215 224 246 252 220  87 186 248  21 223 178 191 166 222  75\n",
      "  22 248  12  67 198 227 227 248 206  27 177  43 215 213 203 235 191  10\n",
      " 241 198  12  40  47  11 217 182  44  35 214  65 179 217  36 199 154 181\n",
      " 200  44  35  56 235 205  51 215  78  36 198  58  16 171 240  23 243 234\n",
      " 213 229  57  62  68 251 229 201 226 209 177  24 180 198 169  51 208  42\n",
      " 246 213  15 225  49 115 236 161 212 249  70 239 179 166  65 175 221 232\n",
      "  43 222  68  31 235 207 211   8 188 190  24 189 237 229  54 233  27  45\n",
      "  53  32  38  60 201 237 237  49 199  52  46  59  47  16 201  32  68 203\n",
      "  74 207  73 172 205 189 193  55  53  58 211 226 202 202   8 207  28  62\n",
      "  64 249   5  71 200  24  23  42  18   3 236  28   0  30 192   0 217 245\n",
      "  56 210  46  52   5  68 207  56  35  19 194 215  26 134 252  50  12  65\n",
      "  22 202  57  75  11 219 203 190  53  30 197 200 204 196  62  23 247 176\n",
      "  44  16  96 163  42 203 103 173  38 246 177 176 198 236 204  25  52  65\n",
      " 234 236 202  62  64  40 220 253 154  24 183  68 119 169  19  79 219 218\n",
      "  99  10 219 174 194 247   3  36  69  22  11  70 170  78  16 251  44 104\n",
      "  59  77  59 161 229   9  11 188  72  51   1   8  55 216 102 215  39  43\n",
      "  56  35  58 245  35  45 243 194 204 226  41  62 230 227  47 168  65  61\n",
      " 226  64  91  89  64 205 204 176  18  33 204  52 156 210  71 224 237  58\n",
      "   5 224  13  32  24  54 200 179 163   3  53  71  50  25  73 243  77  75\n",
      "  83 212  64 215   9  19 249  60 202 129  41  78  47   0 192 254  62  83\n",
      " 199  81  66  33 211  13 208 215  44  66  48 247  75  44 235  54  27  16\n",
      " 191  44 217 210 193 241 207 186  54  26  16 210  51 199 229 201 178 234\n",
      "  61 203 204  65 161  48 168  80  82  69  89 231 178 202  40  56  71  50\n",
      "   9  60 236 223 205  14 233 171  76 219 234 214 243 239  24 217   5 217\n",
      "  79   2  51  30 202  67 195 202]\n",
      "权重 int8 数据 (前20个): [-18 -49  47 -60 -47  -6  39  45 -28 120  12 -43 -27 -56 -30  48 -53 -60\n",
      " -11  16]\n",
      "权重 int8 完整数据: [ -18  -49   47  -60  -47   -6   39   45  -28  120   12  -43  -27  -56\n",
      "  -30   48  -53  -60  -11   16   41   83  -34  -36   80   28   47   40\n",
      "  -62  -14   39   99  -38  -10  -66   84  -47   59 -100   95  -13   20\n",
      "   74   76   58   29   58  -22  -47  -45   22   27   57  -49  -68  -20\n",
      "   38    2   75  -21   64  -55 -127   64  -36  -87   51   63 -108  -12\n",
      "   38   51   47  -17  -18  -41  -32  -10   -4  -36   87  -70   -8   21\n",
      "  -33  -78  -65  -90  -34   75   22   -8   12   67  -58  -29  -29   -8\n",
      "  -50   27  -79   43  -41  -43  -53  -21  -65   10  -15  -58   12   40\n",
      "   47   11  -39  -74   44   35  -42   65  -77  -39   36  -57 -102  -75\n",
      "  -56   44   35   56  -21  -51   51  -41   78   36  -58   58   16  -85\n",
      "  -16   23  -13  -22  -43  -27   57   62   68   -5  -27  -55  -30  -47\n",
      "  -79   24  -76  -58  -87   51  -48   42  -10  -43   15  -31   49  115\n",
      "  -20  -95  -44   -7   70  -17  -77  -90   65  -81  -35  -24   43  -34\n",
      "   68   31  -21  -49  -45    8  -68  -66   24  -67  -19  -27   54  -23\n",
      "   27   45   53   32   38   60  -55  -19  -19   49  -57   52   46   59\n",
      "   47   16  -55   32   68  -53   74  -49   73  -84  -51  -67  -63   55\n",
      "   53   58  -45  -30  -54  -54    8  -49   28   62   64   -7    5   71\n",
      "  -56   24   23   42   18    3  -20   28    0   30  -64    0  -39  -11\n",
      "   56  -46   46   52    5   68  -49   56   35   19  -62  -41   26 -122\n",
      "   -4   50   12   65   22  -54   57   75   11  -37  -53  -66   53   30\n",
      "  -59  -56  -52  -60   62   23   -9  -80   44   16   96  -93   42  -53\n",
      "  103  -83   38  -10  -79  -80  -58  -20  -52   25   52   65  -22  -20\n",
      "  -54   62   64   40  -36   -3 -102   24  -73   68  119  -87   19   79\n",
      "  -37  -38   99   10  -37  -82  -62   -9    3   36   69   22   11   70\n",
      "  -86   78   16   -5   44  104   59   77   59  -95  -27    9   11  -68\n",
      "   72   51    1    8   55  -40  102  -41   39   43   56   35   58  -11\n",
      "   35   45  -13  -62  -52  -30   41   62  -26  -29   47  -88   65   61\n",
      "  -30   64   91   89   64  -51  -52  -80   18   33  -52   52 -100  -46\n",
      "   71  -32  -19   58    5  -32   13   32   24   54  -56  -77  -93    3\n",
      "   53   71   50   25   73  -13   77   75   83  -44   64  -41    9   19\n",
      "   -7   60  -54 -127   41   78   47    0  -64   -2   62   83  -57   81\n",
      "   66   33  -45   13  -48  -41   44   66   48   -9   75   44  -21   54\n",
      "   27   16  -65   44  -39  -46  -63  -15  -49  -70   54   26   16  -46\n",
      "   51  -57  -27  -55  -78  -22   61  -53  -52   65  -95   48  -88   80\n",
      "   82   69   89  -25  -78  -54   40   56   71   50    9   60  -20  -33\n",
      "  -51   14  -23  -85   76  -37  -22  -42  -13  -17   24  -39    5  -39\n",
      "   79    2   51   30  -54   67  -61  -54]\n",
      "\n",
      "偏置 buffer 大小: 2\n",
      "偏置 buffer 原始数据: [ 700 -739]\n",
      "偏置 int32 数据: [ 700 -739]\n",
      "\n",
      "输出通道数: 2\n",
      "输入通道数: 256\n",
      "\n",
      "=== 量化参数 ===\n",
      "输入缩放因子: 0.0891498327255249\n",
      "输出缩放因子: 0.05645151808857918\n",
      "权重缩放因子数量: 2\n",
      "权重缩放因子完整列表: [0.008908483199775219, 0.008436104282736778]\n",
      "通道 0: scale=0.008908483199775219, scale_product=0.01406852842915457, multiplier=1933563824, shift=6\n",
      "通道 1: scale=0.008436104282736778, scale_product=0.013322534293603387, multiplier=1831035171, shift=6\n",
      "\n",
      "=== 最终结果 ===\n",
      "乘数列表完整数据: [1933563824, 1831035171]\n",
      "移位列表完整数据: [6, 6]\n",
      "乘数数量: 2\n",
      "移位数量: 2\n",
      "\n",
      "=== 额外调试信息 ===\n",
      "权重数据类型: <class 'numpy.ndarray'>, 数据形状: (512,)\n",
      "偏置数据类型: <class 'numpy.ndarray'>, 数据形状: (2,)\n",
      "权重数据范围: min=-127, max=120\n",
      "偏置数据范围: min=-739, max=700\n",
      "乘数数据范围: min=1831035171, max=1933563824\n",
      "移位数据范围: min=6, max=6\n",
      "✅ 已生成: spk-OFFICIAL_ALL-NO_NOISE_hid256_9X12_epoch500_2cls_seed58_val_accuracy/inc/spk_fc_model_params.h 和 spk-OFFICIAL_ALL-NO_NOISE_hid256_9X12_epoch500_2cls_seed58_val_accuracy/src/spk_fc_model_data.c\n"
     ]
    }
   ],
   "source": [
    "export_fc_params(\n",
    "    tflite_path=model_path,\n",
    "    output_dir=output_dir,\n",
    "    subgraph_index=0,\n",
    "    operator_index=3,\n",
    "    prefix='spk_fc'\n",
    ")"
   ]
  },
  {
   "cell_type": "code",
   "execution_count": 5,
   "id": "9803aa8f",
   "metadata": {},
   "outputs": [
    {
     "name": "stdout",
     "output_type": "stream",
     "text": [
      "✅ 生成成功 → spk-OFFICIAL_ALL-NO_NOISE_hid256_9X12_epoch500_2cls_seed58_val_accuracy/inc/spk_conv_model_params.h | spk-OFFICIAL_ALL-NO_NOISE_hid256_9X12_epoch500_2cls_seed58_val_accuracy/src/spk_conv_model_data.c\n"
     ]
    }
   ],
   "source": [
    "export_conv_params(\n",
    "    tflite_path=model_path,\n",
    "    output_dir=output_dir,\n",
    "    subgraph_index=0,\n",
    "    conv_op_index=0,\n",
    "    prefix='spk_conv',\n",
    "    SHIFT_LEFT_POSITIVE=False\n",
    ")"
   ]
  },
  {
   "cell_type": "code",
   "execution_count": 6,
   "id": "1f82329b",
   "metadata": {},
   "outputs": [
    {
     "name": "stdout",
     "output_type": "stream",
     "text": [
      "spk-OFFICIAL_ALL-NO_NOISE_hid256_9X12_epoch500_2cls_seed58_val_accuracy/\n",
      "spk-OFFICIAL_ALL-NO_NOISE_hid256_9X12_epoch500_2cls_seed58_val_accuracy/src/\n",
      "spk-OFFICIAL_ALL-NO_NOISE_hid256_9X12_epoch500_2cls_seed58_val_accuracy/src/spk_fc_model_data.c\n",
      "spk-OFFICIAL_ALL-NO_NOISE_hid256_9X12_epoch500_2cls_seed58_val_accuracy/src/spk_conv_model_data.c\n",
      "spk-OFFICIAL_ALL-NO_NOISE_hid256_9X12_epoch500_2cls_seed58_val_accuracy/inc/\n",
      "spk-OFFICIAL_ALL-NO_NOISE_hid256_9X12_epoch500_2cls_seed58_val_accuracy/inc/spk_conv_model_params.h\n",
      "spk-OFFICIAL_ALL-NO_NOISE_hid256_9X12_epoch500_2cls_seed58_val_accuracy/inc/spk_fc_model_params.h\n"
     ]
    }
   ],
   "source": [
    "!tar -cvf {LABEL}.tar {LABEL}"
   ]
  }
 ],
 "metadata": {
  "kernelspec": {
   "display_name": "vesc2025-algo",
   "language": "python",
   "name": "python3"
  },
  "language_info": {
   "codemirror_mode": {
    "name": "ipython",
    "version": 3
   },
   "file_extension": ".py",
   "mimetype": "text/x-python",
   "name": "python",
   "nbconvert_exporter": "python",
   "pygments_lexer": "ipython3",
   "version": "3.12.11"
  }
 },
 "nbformat": 4,
 "nbformat_minor": 5
}
