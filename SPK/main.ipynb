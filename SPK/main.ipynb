{
 "cells": [
  {
   "cell_type": "code",
   "execution_count": 1,
   "id": "a810472f",
   "metadata": {},
   "outputs": [],
   "source": [
    "import numpy as np"
   ]
  },
  {
   "cell_type": "code",
   "execution_count": 2,
   "id": "77389f48",
   "metadata": {},
   "outputs": [],
   "source": [
    "a = np.load('OFFICIAL/PHONE/02normed/ID1_norm.npy')"
   ]
  },
  {
   "cell_type": "code",
   "execution_count": 3,
   "id": "644194b8",
   "metadata": {},
   "outputs": [
    {
     "name": "stdout",
     "output_type": "stream",
     "text": [
      "[[-0.00263995  0.00209842  0.00175997 ... -0.136939   -0.13138834\n",
      "  -0.11927164]\n",
      " [-0.10352299 -0.06927163 -0.03683769 ... -0.07912764 -0.10596953\n",
      "  -0.12610094]\n",
      " [-0.19886251 -0.22789863 -0.22191179 ... -0.16952704 -0.24855319\n",
      "  -0.2213131 ]\n",
      " ...\n",
      " [ 0.00512383 -0.00027172 -0.0006987  ... -0.10954119 -0.19579226\n",
      "  -0.18100303]\n",
      " [-0.07786352 -0.10329001 -0.1310723  ...  0.02497969  0.03554021\n",
      "   0.06571893]\n",
      " [-0.25627956 -0.2510712  -0.23836437 ... -0.02678044 -0.04321808\n",
      "  -0.0277039 ]]\n"
     ]
    }
   ],
   "source": [
    "print(a)"
   ]
  }
 ],
 "metadata": {
  "kernelspec": {
   "display_name": "vesc2025-algo",
   "language": "python",
   "name": "python3"
  },
  "language_info": {
   "codemirror_mode": {
    "name": "ipython",
    "version": 3
   },
   "file_extension": ".py",
   "mimetype": "text/x-python",
   "name": "python",
   "nbconvert_exporter": "python",
   "pygments_lexer": "ipython3",
   "version": "3.12.11"
  }
 },
 "nbformat": 4,
 "nbformat_minor": 5
}
